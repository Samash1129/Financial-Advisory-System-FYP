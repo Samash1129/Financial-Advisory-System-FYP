{
 "cells": [
  {
   "cell_type": "code",
   "execution_count": 6,
   "metadata": {},
   "outputs": [],
   "source": [
    "import pandas as pd\n",
    "\n",
    "# Read the CSV file\n",
    "df = pd.read_csv('../Data_Extraction/bank_data.csv')\n",
    "\n",
    "# Assuming 'Ticker Symbol' is the column containing the ticker symbols\n",
    "unique_tickers = df['Ticker Symbol'].unique()\n",
    "\n",
    "# Create a Pandas Excel writer using ExcelWriter\n",
    "with pd.ExcelWriter('output_file.xlsx') as writer:\n",
    "    # Iterate through unique ticker symbols\n",
    "    for ticker in unique_tickers:\n",
    "        # Create a new sheet for each ticker symbol\n",
    "        df_ticker = df[df['Ticker Symbol'] == ticker]\n",
    "        df_ticker.to_excel(writer, sheet_name=ticker, index=False)\n"
   ]
  }
 ],
 "metadata": {
  "kernelspec": {
   "display_name": "Python 3",
   "language": "python",
   "name": "python3"
  },
  "language_info": {
   "codemirror_mode": {
    "name": "ipython",
    "version": 3
   },
   "file_extension": ".py",
   "mimetype": "text/x-python",
   "name": "python",
   "nbconvert_exporter": "python",
   "pygments_lexer": "ipython3",
   "version": "3.11.6"
  }
 },
 "nbformat": 4,
 "nbformat_minor": 2
}
