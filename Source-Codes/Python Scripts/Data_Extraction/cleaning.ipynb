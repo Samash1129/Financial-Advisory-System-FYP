{
 "cells": [
  {
   "cell_type": "code",
   "execution_count": 26,
   "metadata": {},
   "outputs": [],
   "source": [
    "import pandas as pd"
   ]
  },
  {
   "cell_type": "code",
   "execution_count": 27,
   "metadata": {},
   "outputs": [],
   "source": [
    "dataset = pd.read_csv(\"bank_data.csv\")"
   ]
  },
  {
   "cell_type": "code",
   "execution_count": 28,
   "metadata": {},
   "outputs": [
    {
     "data": {
      "text/html": [
       "<div>\n",
       "<style scoped>\n",
       "    .dataframe tbody tr th:only-of-type {\n",
       "        vertical-align: middle;\n",
       "    }\n",
       "\n",
       "    .dataframe tbody tr th {\n",
       "        vertical-align: top;\n",
       "    }\n",
       "\n",
       "    .dataframe thead th {\n",
       "        text-align: right;\n",
       "    }\n",
       "</style>\n",
       "<table border=\"1\" class=\"dataframe\">\n",
       "  <thead>\n",
       "    <tr style=\"text-align: right;\">\n",
       "      <th></th>\n",
       "      <th>Date</th>\n",
       "      <th>Symbol</th>\n",
       "      <th>Company Name</th>\n",
       "      <th>Open</th>\n",
       "      <th>High</th>\n",
       "      <th>Low</th>\n",
       "      <th>Close</th>\n",
       "      <th>Change</th>\n",
       "      <th>Volume</th>\n",
       "    </tr>\n",
       "  </thead>\n",
       "  <tbody>\n",
       "    <tr>\n",
       "      <th>0</th>\n",
       "      <td>2024-01-13</td>\n",
       "      <td>Symbol</td>\n",
       "      <td>Company Name</td>\n",
       "      <td>Open</td>\n",
       "      <td>High</td>\n",
       "      <td>Low</td>\n",
       "      <td>Close</td>\n",
       "      <td>Change</td>\n",
       "      <td>Volume</td>\n",
       "    </tr>\n",
       "    <tr>\n",
       "      <th>1</th>\n",
       "      <td>2024-01-13</td>\n",
       "      <td>ABL</td>\n",
       "      <td>Allied Bank Limited</td>\n",
       "      <td>83.60</td>\n",
       "      <td>84.20</td>\n",
       "      <td>83.50</td>\n",
       "      <td>83.90</td>\n",
       "      <td>-0.10</td>\n",
       "      <td>17,000</td>\n",
       "    </tr>\n",
       "    <tr>\n",
       "      <th>2</th>\n",
       "      <td>2024-01-13</td>\n",
       "      <td>AKBL</td>\n",
       "      <td>Askari Bank Limited</td>\n",
       "      <td>24.34</td>\n",
       "      <td>24.34</td>\n",
       "      <td>23.55</td>\n",
       "      <td>23.79</td>\n",
       "      <td>0.18</td>\n",
       "      <td>1,546,500</td>\n",
       "    </tr>\n",
       "    <tr>\n",
       "      <th>3</th>\n",
       "      <td>2024-01-13</td>\n",
       "      <td>BAFL</td>\n",
       "      <td>Bank Al-Falah Limited</td>\n",
       "      <td>48.99</td>\n",
       "      <td>49.30</td>\n",
       "      <td>48.51</td>\n",
       "      <td>48.99</td>\n",
       "      <td>0.40</td>\n",
       "      <td>1,991,420</td>\n",
       "    </tr>\n",
       "    <tr>\n",
       "      <th>4</th>\n",
       "      <td>2024-01-13</td>\n",
       "      <td>BAHL</td>\n",
       "      <td>Bank Al-Habib Limited</td>\n",
       "      <td>82.06</td>\n",
       "      <td>82.85</td>\n",
       "      <td>81.73</td>\n",
       "      <td>82.34</td>\n",
       "      <td>0.88</td>\n",
       "      <td>457,942</td>\n",
       "    </tr>\n",
       "  </tbody>\n",
       "</table>\n",
       "</div>"
      ],
      "text/plain": [
       "         Date  Symbol           Company Name   Open   High    Low  Close  \\\n",
       "0  2024-01-13  Symbol           Company Name   Open   High    Low  Close   \n",
       "1  2024-01-13     ABL    Allied Bank Limited  83.60  84.20  83.50  83.90   \n",
       "2  2024-01-13    AKBL    Askari Bank Limited  24.34  24.34  23.55  23.79   \n",
       "3  2024-01-13    BAFL  Bank Al-Falah Limited  48.99  49.30  48.51  48.99   \n",
       "4  2024-01-13    BAHL  Bank Al-Habib Limited  82.06  82.85  81.73  82.34   \n",
       "\n",
       "   Change     Volume  \n",
       "0  Change     Volume  \n",
       "1   -0.10     17,000  \n",
       "2    0.18  1,546,500  \n",
       "3    0.40  1,991,420  \n",
       "4    0.88    457,942  "
      ]
     },
     "execution_count": 28,
     "metadata": {},
     "output_type": "execute_result"
    }
   ],
   "source": [
    "dataset.head()"
   ]
  },
  {
   "cell_type": "code",
   "execution_count": 29,
   "metadata": {},
   "outputs": [
    {
     "data": {
      "text/plain": [
       "array(['Symbol', 'ABL', 'AKBL', 'BAFL', 'BAHL', 'BOK', 'BOP', 'BIPL',\n",
       "       'FABL', 'HBL', 'HMB', 'JSBL', 'MCB', 'MEBL', 'NBP', 'SBL', 'SILK',\n",
       "       'SNBL', 'SCBPL', 'UBL', 'SMBL'], dtype=object)"
      ]
     },
     "execution_count": 29,
     "metadata": {},
     "output_type": "execute_result"
    }
   ],
   "source": [
    "dataset['Symbol'].unique()"
   ]
  },
  {
   "cell_type": "code",
   "execution_count": 30,
   "metadata": {},
   "outputs": [],
   "source": [
    "dataset = dataset[dataset['Symbol'] != 'Symbol']"
   ]
  },
  {
   "cell_type": "code",
   "execution_count": 31,
   "metadata": {},
   "outputs": [
    {
     "data": {
      "text/plain": [
       "array(['ABL', 'AKBL', 'BAFL', 'BAHL', 'BOK', 'BOP', 'BIPL', 'FABL', 'HBL',\n",
       "       'HMB', 'JSBL', 'MCB', 'MEBL', 'NBP', 'SBL', 'SILK', 'SNBL',\n",
       "       'SCBPL', 'UBL', 'SMBL'], dtype=object)"
      ]
     },
     "execution_count": 31,
     "metadata": {},
     "output_type": "execute_result"
    }
   ],
   "source": [
    "dataset['Symbol'].unique()"
   ]
  },
  {
   "cell_type": "code",
   "execution_count": 32,
   "metadata": {},
   "outputs": [],
   "source": [
    "# overwrite the csv\n",
    "dataset.to_csv(\"bank_data.csv\", index=False)"
   ]
  }
 ],
 "metadata": {
  "kernelspec": {
   "display_name": "Python 3",
   "language": "python",
   "name": "python3"
  },
  "language_info": {
   "codemirror_mode": {
    "name": "ipython",
    "version": 3
   },
   "file_extension": ".py",
   "mimetype": "text/x-python",
   "name": "python",
   "nbconvert_exporter": "python",
   "pygments_lexer": "ipython3",
   "version": "3.11.6"
  }
 },
 "nbformat": 4,
 "nbformat_minor": 2
}
